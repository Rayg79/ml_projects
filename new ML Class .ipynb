{
 "cells": [
  {
   "cell_type": "markdown",
   "metadata": {},
   "source": [
    "# new Class Date: 10- Jun - 2020"
   ]
  },
  {
   "cell_type": "code",
   "execution_count": 2,
   "metadata": {},
   "outputs": [],
   "source": [
    "import numpy as np"
   ]
  },
  {
   "cell_type": "code",
   "execution_count": 10,
   "metadata": {},
   "outputs": [
    {
     "data": {
      "text/plain": [
       "array([[1, 0, 0, 0, 0],\n",
       "       [0, 1, 0, 0, 0],\n",
       "       [0, 0, 1, 0, 0],\n",
       "       [0, 0, 0, 1, 0],\n",
       "       [0, 0, 0, 0, 1]])"
      ]
     },
     "execution_count": 10,
     "metadata": {},
     "output_type": "execute_result"
    }
   ],
   "source": [
    "# -----identity----- \n",
    "# it's method of numpy only accept one value for both row and column which is the first parametre\n",
    "# it also accept dtype to denote or change the datatype to display\n",
    "\n",
    "np.identity(5, dtype=int)"
   ]
  },
  {
   "cell_type": "code",
   "execution_count": 14,
   "metadata": {},
   "outputs": [
    {
     "data": {
      "text/plain": [
       "array([[0, 0, 1, 0, 0, 0],\n",
       "       [0, 0, 0, 1, 0, 0],\n",
       "       [0, 0, 0, 0, 1, 0],\n",
       "       [0, 0, 0, 0, 0, 1],\n",
       "       [0, 0, 0, 0, 0, 0]])"
      ]
     },
     "execution_count": 14,
     "metadata": {},
     "output_type": "execute_result"
    }
   ],
   "source": [
    "# ----- eye -----\n",
    "# it's advance method that  \n",
    "np.eye(5,6, 2, dtype=int)"
   ]
  },
  {
   "cell_type": "code",
   "execution_count": 17,
   "metadata": {},
   "outputs": [
    {
     "data": {
      "text/plain": [
       "array([[0.63538248, 0.86852338],\n",
       "       [0.31475639, 0.58261518],\n",
       "       [0.66815851, 0.37080628]])"
      ]
     },
     "execution_count": 17,
     "metadata": {},
     "output_type": "execute_result"
    }
   ],
   "source": [
    "np.random.rand(3,2)"
   ]
  },
  {
   "cell_type": "code",
   "execution_count": 18,
   "metadata": {},
   "outputs": [
    {
     "data": {
      "text/plain": [
       "array([10,  4,  5,  4, 15])"
      ]
     },
     "execution_count": 18,
     "metadata": {},
     "output_type": "execute_result"
    }
   ],
   "source": [
    "np.random.randint(1,21,5)"
   ]
  },
  {
   "cell_type": "code",
   "execution_count": 20,
   "metadata": {},
   "outputs": [
    {
     "data": {
      "text/plain": [
       "array([1, 2, 3])"
      ]
     },
     "execution_count": 20,
     "metadata": {},
     "output_type": "execute_result"
    }
   ],
   "source": [
    "a = np.array([1,2,3])\n",
    "a"
   ]
  },
  {
   "cell_type": "code",
   "execution_count": 21,
   "metadata": {},
   "outputs": [
    {
     "data": {
      "text/plain": [
       "(3,)"
      ]
     },
     "execution_count": 21,
     "metadata": {},
     "output_type": "execute_result"
    }
   ],
   "source": [
    "a.shape"
   ]
  },
  {
   "cell_type": "code",
   "execution_count": 23,
   "metadata": {},
   "outputs": [
    {
     "data": {
      "text/plain": [
       "array([[1, 2, 3],\n",
       "       [4, 5, 6],\n",
       "       [7, 8, 9]])"
      ]
     },
     "execution_count": 23,
     "metadata": {},
     "output_type": "execute_result"
    }
   ],
   "source": [
    "a = np.array([[1,2,3], [4,5,6],[7,8,9]])\n",
    "a"
   ]
  },
  {
   "cell_type": "code",
   "execution_count": 24,
   "metadata": {},
   "outputs": [
    {
     "data": {
      "text/plain": [
       "array([[6],\n",
       "       [9]])"
      ]
     },
     "execution_count": 24,
     "metadata": {},
     "output_type": "execute_result"
    }
   ],
   "source": [
    "A = a[1:,2:]\n",
    "A"
   ]
  },
  {
   "cell_type": "code",
   "execution_count": 27,
   "metadata": {},
   "outputs": [
    {
     "data": {
      "text/plain": [
       "array([[[4.17072724e-01, 2.86337122e-03, 8.26024105e-01, 3.78022957e-01,\n",
       "         3.02179400e-02, 9.85493306e-01],\n",
       "        [7.48838961e-02, 1.55895499e-01, 6.89264552e-01, 1.21440403e-01,\n",
       "         7.47474510e-01, 6.31117205e-01],\n",
       "        [5.60849025e-01, 9.85819274e-01, 6.96705188e-01, 9.87746843e-01,\n",
       "         2.50131139e-01, 3.08829527e-01],\n",
       "        [7.28310554e-02, 3.65365316e-01, 1.75630444e-01, 6.28839654e-01,\n",
       "         8.50082913e-01, 2.47904167e-01],\n",
       "        [2.38324441e-01, 8.69793452e-02, 8.06914889e-01, 8.66955958e-01,\n",
       "         1.58337393e-01, 4.64261241e-01]],\n",
       "\n",
       "       [[3.04299956e-02, 6.58507174e-01, 5.41015741e-01, 4.66217731e-01,\n",
       "         1.82825411e-01, 3.29732467e-01],\n",
       "        [7.50486305e-01, 8.75482624e-01, 5.52504135e-02, 5.16904008e-02,\n",
       "         6.54546499e-01, 2.02254038e-01],\n",
       "        [1.87914614e-02, 8.04215366e-01, 9.33804278e-01, 7.94577849e-01,\n",
       "         7.76834125e-01, 6.51127585e-01],\n",
       "        [6.73634330e-01, 1.73688539e-01, 3.77516193e-01, 6.29089593e-02,\n",
       "         4.25050925e-02, 7.55900322e-01],\n",
       "        [1.51799377e-01, 4.99624872e-01, 8.35826245e-01, 2.41617366e-01,\n",
       "         5.88805615e-01, 6.33044935e-01]],\n",
       "\n",
       "       [[5.73474076e-01, 8.54887976e-01, 1.48600783e-02, 6.23521219e-02,\n",
       "         2.96809582e-01, 6.15819274e-01],\n",
       "        [4.16933350e-01, 4.86032948e-01, 3.06227071e-01, 8.60134315e-01,\n",
       "         2.19465966e-01, 6.51668828e-01],\n",
       "        [6.37976158e-01, 3.85574523e-01, 1.53489258e-01, 5.93646541e-03,\n",
       "         3.71946255e-01, 2.85240489e-01],\n",
       "        [5.84927446e-01, 6.38308631e-01, 3.88206102e-01, 5.59506012e-01,\n",
       "         1.21158686e-01, 4.33028708e-01],\n",
       "        [7.18276345e-01, 7.35694604e-01, 2.49885287e-01, 6.96303142e-01,\n",
       "         1.80863622e-01, 8.39461903e-01]],\n",
       "\n",
       "       [[1.71611958e-02, 2.11630321e-01, 4.26243367e-01, 6.72143079e-01,\n",
       "         2.58339986e-01, 7.50223731e-01],\n",
       "        [6.19832181e-01, 9.56633226e-01, 2.54974196e-01, 4.41195129e-01,\n",
       "         9.15773142e-01, 1.46419297e-01],\n",
       "        [3.77117186e-01, 1.58798509e-01, 2.21226072e-01, 2.42853683e-01,\n",
       "         2.08783708e-04, 9.56804788e-01],\n",
       "        [6.21656355e-01, 5.97167193e-01, 6.72216706e-01, 5.72893033e-01,\n",
       "         5.46305899e-01, 6.49868278e-01],\n",
       "        [1.71580176e-01, 3.19906925e-01, 2.30972899e-01, 5.88378978e-01,\n",
       "         9.33047874e-01, 8.01634884e-01]]])"
      ]
     },
     "execution_count": 27,
     "metadata": {},
     "output_type": "execute_result"
    }
   ],
   "source": [
    "x = np.random.rand(4,5,6)\n",
    "x"
   ]
  },
  {
   "cell_type": "code",
   "execution_count": 28,
   "metadata": {},
   "outputs": [
    {
     "data": {
      "text/plain": [
       "3"
      ]
     },
     "execution_count": 28,
     "metadata": {},
     "output_type": "execute_result"
    }
   ],
   "source": [
    "x.ndim"
   ]
  },
  {
   "cell_type": "code",
   "execution_count": 49,
   "metadata": {},
   "outputs": [
    {
     "data": {
      "text/plain": [
       "array([[[0.41707272, 0.00286337, 0.8260241 , 0.37802296, 0.03021794,\n",
       "         0.98549331],\n",
       "        [0.0748839 , 0.1558955 , 0.68926455, 0.1214404 , 0.74747451,\n",
       "         0.63111721],\n",
       "        [0.56084902, 0.98581927, 0.69670519, 0.98774684, 0.25013114,\n",
       "         0.30882953],\n",
       "        [0.07283106, 0.36536532, 0.17563044, 0.62883965, 0.85008291,\n",
       "         0.24790417],\n",
       "        [0.23832444, 0.08697935, 0.80691489, 0.86695596, 0.15833739,\n",
       "         0.46426124]],\n",
       "\n",
       "       [[0.03043   , 0.65850717, 0.54101574, 0.46621773, 0.18282541,\n",
       "         0.32973247],\n",
       "        [0.75048631, 0.87548262, 0.05525041, 0.0516904 , 0.6545465 ,\n",
       "         0.20225404],\n",
       "        [0.01879146, 0.80421537, 0.93380428, 0.79457785, 0.77683413,\n",
       "         0.65112759],\n",
       "        [0.67363433, 0.17368854, 0.37751619, 0.06290896, 0.04250509,\n",
       "         0.75590032],\n",
       "        [0.15179938, 0.49962487, 0.83582625, 0.24161737, 0.58880562,\n",
       "         0.63304494]]])"
      ]
     },
     "execution_count": 49,
     "metadata": {},
     "output_type": "execute_result"
    }
   ],
   "source": [
    "y, z = np.split(x,2)\n",
    "y"
   ]
  },
  {
   "cell_type": "code",
   "execution_count": 31,
   "metadata": {},
   "outputs": [
    {
     "data": {
      "text/plain": [
       "array([[[5.73474076e-01, 8.54887976e-01, 1.48600783e-02, 6.23521219e-02,\n",
       "         2.96809582e-01, 6.15819274e-01],\n",
       "        [4.16933350e-01, 4.86032948e-01, 3.06227071e-01, 8.60134315e-01,\n",
       "         2.19465966e-01, 6.51668828e-01],\n",
       "        [6.37976158e-01, 3.85574523e-01, 1.53489258e-01, 5.93646541e-03,\n",
       "         3.71946255e-01, 2.85240489e-01],\n",
       "        [5.84927446e-01, 6.38308631e-01, 3.88206102e-01, 5.59506012e-01,\n",
       "         1.21158686e-01, 4.33028708e-01],\n",
       "        [7.18276345e-01, 7.35694604e-01, 2.49885287e-01, 6.96303142e-01,\n",
       "         1.80863622e-01, 8.39461903e-01]],\n",
       "\n",
       "       [[1.71611958e-02, 2.11630321e-01, 4.26243367e-01, 6.72143079e-01,\n",
       "         2.58339986e-01, 7.50223731e-01],\n",
       "        [6.19832181e-01, 9.56633226e-01, 2.54974196e-01, 4.41195129e-01,\n",
       "         9.15773142e-01, 1.46419297e-01],\n",
       "        [3.77117186e-01, 1.58798509e-01, 2.21226072e-01, 2.42853683e-01,\n",
       "         2.08783708e-04, 9.56804788e-01],\n",
       "        [6.21656355e-01, 5.97167193e-01, 6.72216706e-01, 5.72893033e-01,\n",
       "         5.46305899e-01, 6.49868278e-01],\n",
       "        [1.71580176e-01, 3.19906925e-01, 2.30972899e-01, 5.88378978e-01,\n",
       "         9.33047874e-01, 8.01634884e-01]]])"
      ]
     },
     "execution_count": 31,
     "metadata": {},
     "output_type": "execute_result"
    }
   ],
   "source": [
    "z"
   ]
  },
  {
   "cell_type": "code",
   "execution_count": 50,
   "metadata": {},
   "outputs": [
    {
     "data": {
      "text/plain": [
       "[array([[[0.41707272, 0.00286337, 0.8260241 ],\n",
       "         [0.0748839 , 0.1558955 , 0.68926455],\n",
       "         [0.56084902, 0.98581927, 0.69670519],\n",
       "         [0.07283106, 0.36536532, 0.17563044],\n",
       "         [0.23832444, 0.08697935, 0.80691489]],\n",
       " \n",
       "        [[0.03043   , 0.65850717, 0.54101574],\n",
       "         [0.75048631, 0.87548262, 0.05525041],\n",
       "         [0.01879146, 0.80421537, 0.93380428],\n",
       "         [0.67363433, 0.17368854, 0.37751619],\n",
       "         [0.15179938, 0.49962487, 0.83582625]]]),\n",
       " array([[[0.37802296, 0.03021794, 0.98549331],\n",
       "         [0.1214404 , 0.74747451, 0.63111721],\n",
       "         [0.98774684, 0.25013114, 0.30882953],\n",
       "         [0.62883965, 0.85008291, 0.24790417],\n",
       "         [0.86695596, 0.15833739, 0.46426124]],\n",
       " \n",
       "        [[0.46621773, 0.18282541, 0.32973247],\n",
       "         [0.0516904 , 0.6545465 , 0.20225404],\n",
       "         [0.79457785, 0.77683413, 0.65112759],\n",
       "         [0.06290896, 0.04250509, 0.75590032],\n",
       "         [0.24161737, 0.58880562, 0.63304494]]])]"
      ]
     },
     "execution_count": 50,
     "metadata": {},
     "output_type": "execute_result"
    }
   ],
   "source": [
    "m = np.dsplit(y,2)\n",
    "m"
   ]
  },
  {
   "cell_type": "code",
   "execution_count": null,
   "metadata": {},
   "outputs": [],
   "source": []
  },
  {
   "cell_type": "code",
   "execution_count": null,
   "metadata": {},
   "outputs": [],
   "source": []
  },
  {
   "cell_type": "code",
   "execution_count": null,
   "metadata": {},
   "outputs": [],
   "source": []
  },
  {
   "cell_type": "code",
   "execution_count": null,
   "metadata": {},
   "outputs": [],
   "source": []
  },
  {
   "cell_type": "code",
   "execution_count": 51,
   "metadata": {},
   "outputs": [
    {
     "data": {
      "text/plain": [
       "1.0852269406892296"
      ]
     },
     "execution_count": 51,
     "metadata": {},
     "output_type": "execute_result"
    }
   ],
   "source": [
    "np.random.exponential(3)"
   ]
  },
  {
   "cell_type": "code",
   "execution_count": 52,
   "metadata": {},
   "outputs": [
    {
     "data": {
      "text/plain": [
       "array([2, 4, 6, 7])"
      ]
     },
     "execution_count": 52,
     "metadata": {},
     "output_type": "execute_result"
    }
   ],
   "source": [
    "x = np.array([2,4,6,7])\n",
    "y = np.array([1,5,7,4])\n",
    "x"
   ]
  },
  {
   "cell_type": "code",
   "execution_count": 53,
   "metadata": {},
   "outputs": [
    {
     "data": {
      "text/plain": [
       "array([1, 5, 7, 4])"
      ]
     },
     "execution_count": 53,
     "metadata": {},
     "output_type": "execute_result"
    }
   ],
   "source": [
    "y"
   ]
  },
  {
   "cell_type": "code",
   "execution_count": 55,
   "metadata": {},
   "outputs": [
    {
     "data": {
      "text/plain": [
       "array([[2, 4, 6, 7],\n",
       "       [1, 5, 7, 4]])"
      ]
     },
     "execution_count": 55,
     "metadata": {},
     "output_type": "execute_result"
    }
   ],
   "source": [
    "m = np.stack((x,y))\n",
    "m"
   ]
  },
  {
   "cell_type": "markdown",
   "metadata": {},
   "source": [
    "# Bitwise method\n"
   ]
  },
  {
   "cell_type": "code",
   "execution_count": 56,
   "metadata": {},
   "outputs": [],
   "source": [
    "d = np.array([1,0,1,0])\n",
    "t = np.array([1,1,0,0])"
   ]
  },
  {
   "cell_type": "code",
   "execution_count": 60,
   "metadata": {},
   "outputs": [
    {
     "data": {
      "text/plain": [
       "array([1, 0, 0, 0], dtype=int32)"
      ]
     },
     "execution_count": 60,
     "metadata": {},
     "output_type": "execute_result"
    }
   ],
   "source": [
    "g = np.bitwise_and(d,t)\n",
    "g"
   ]
  },
  {
   "cell_type": "code",
   "execution_count": 62,
   "metadata": {},
   "outputs": [
    {
     "data": {
      "text/plain": [
       "array([1, 1, 1, 0], dtype=int32)"
      ]
     },
     "execution_count": 62,
     "metadata": {},
     "output_type": "execute_result"
    }
   ],
   "source": [
    "f = np.bitwise_or(d,t)\n",
    "f"
   ]
  },
  {
   "cell_type": "code",
   "execution_count": null,
   "metadata": {},
   "outputs": [],
   "source": []
  },
  {
   "cell_type": "code",
   "execution_count": null,
   "metadata": {},
   "outputs": [],
   "source": []
  }
 ],
 "metadata": {
  "kernelspec": {
   "display_name": "Python 3",
   "language": "python",
   "name": "python3"
  },
  "language_info": {
   "codemirror_mode": {
    "name": "ipython",
    "version": 3
   },
   "file_extension": ".py",
   "mimetype": "text/x-python",
   "name": "python",
   "nbconvert_exporter": "python",
   "pygments_lexer": "ipython3",
   "version": "3.7.6"
  }
 },
 "nbformat": 4,
 "nbformat_minor": 4
}
