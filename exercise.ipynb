{
 "cells": [
  {
   "cell_type": "code",
   "execution_count": 1,
   "metadata": {},
   "outputs": [],
   "source": [
    "import numpy as np"
   ]
  },
  {
   "cell_type": "code",
   "execution_count": 10,
   "metadata": {},
   "outputs": [
    {
     "data": {
      "text/plain": [
       "array([[[0.31729577, 0.04777166, 0.48341422, 0.25276594],\n",
       "        [0.80738487, 0.74296026, 0.53257569, 0.65562598]],\n",
       "\n",
       "       [[0.54730361, 0.41999218, 0.69960252, 0.27802747],\n",
       "        [0.45837602, 0.35898135, 0.6072707 , 0.46679747]],\n",
       "\n",
       "       [[0.78033286, 0.65164121, 0.11364785, 0.88577027],\n",
       "        [0.07144688, 0.90492217, 0.20698304, 0.3277339 ]],\n",
       "\n",
       "       [[0.2963768 , 0.62491126, 0.26617905, 0.31211625],\n",
       "        [0.14066222, 0.64856064, 0.06962458, 0.68594608]]])"
      ]
     },
     "execution_count": 10,
     "metadata": {},
     "output_type": "execute_result"
    }
   ],
   "source": [
    "x = np.random.rand(4,2,4)\n",
    "x"
   ]
  },
  {
   "cell_type": "code",
   "execution_count": 9,
   "metadata": {},
   "outputs": [
    {
     "data": {
      "text/plain": [
       "3"
      ]
     },
     "execution_count": 9,
     "metadata": {},
     "output_type": "execute_result"
    }
   ],
   "source": [
    "x.ndim"
   ]
  },
  {
   "cell_type": "code",
   "execution_count": 13,
   "metadata": {},
   "outputs": [],
   "source": [
    "y, z = np.split(x,2)"
   ]
  },
  {
   "cell_type": "code",
   "execution_count": 14,
   "metadata": {},
   "outputs": [
    {
     "data": {
      "text/plain": [
       "array([[[0.31729577, 0.04777166, 0.48341422, 0.25276594],\n",
       "        [0.80738487, 0.74296026, 0.53257569, 0.65562598]],\n",
       "\n",
       "       [[0.54730361, 0.41999218, 0.69960252, 0.27802747],\n",
       "        [0.45837602, 0.35898135, 0.6072707 , 0.46679747]]])"
      ]
     },
     "execution_count": 14,
     "metadata": {},
     "output_type": "execute_result"
    }
   ],
   "source": [
    "y"
   ]
  },
  {
   "cell_type": "code",
   "execution_count": 15,
   "metadata": {},
   "outputs": [
    {
     "data": {
      "text/plain": [
       "array([[[0.78033286, 0.65164121, 0.11364785, 0.88577027],\n",
       "        [0.07144688, 0.90492217, 0.20698304, 0.3277339 ]],\n",
       "\n",
       "       [[0.2963768 , 0.62491126, 0.26617905, 0.31211625],\n",
       "        [0.14066222, 0.64856064, 0.06962458, 0.68594608]]])"
      ]
     },
     "execution_count": 15,
     "metadata": {},
     "output_type": "execute_result"
    }
   ],
   "source": [
    "z"
   ]
  },
  {
   "cell_type": "code",
   "execution_count": null,
   "metadata": {},
   "outputs": [],
   "source": []
  },
  {
   "cell_type": "code",
   "execution_count": 19,
   "metadata": {},
   "outputs": [
    {
     "data": {
      "text/plain": [
       "[array([[[0.78033286, 0.65164121, 0.11364785, 0.88577027]],\n",
       " \n",
       "        [[0.2963768 , 0.62491126, 0.26617905, 0.31211625]]]),\n",
       " array([[[0.07144688, 0.90492217, 0.20698304, 0.3277339 ]],\n",
       " \n",
       "        [[0.14066222, 0.64856064, 0.06962458, 0.68594608]]])]"
      ]
     },
     "execution_count": 19,
     "metadata": {},
     "output_type": "execute_result"
    }
   ],
   "source": [
    "q = np.hsplit(z,2)\n",
    "q"
   ]
  },
  {
   "cell_type": "code",
   "execution_count": null,
   "metadata": {},
   "outputs": [],
   "source": []
  }
 ],
 "metadata": {
  "kernelspec": {
   "display_name": "Python 3",
   "language": "python",
   "name": "python3"
  },
  "language_info": {
   "codemirror_mode": {
    "name": "ipython",
    "version": 3
   },
   "file_extension": ".py",
   "mimetype": "text/x-python",
   "name": "python",
   "nbconvert_exporter": "python",
   "pygments_lexer": "ipython3",
   "version": "3.7.6"
  }
 },
 "nbformat": 4,
 "nbformat_minor": 4
}
