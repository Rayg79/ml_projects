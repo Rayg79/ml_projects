{
 "cells": [
  {
   "cell_type": "code",
   "execution_count": 134,
   "metadata": {},
   "outputs": [],
   "source": [
    "import numpy as np\n",
    "from PIL import Image"
   ]
  },
  {
   "cell_type": "code",
   "execution_count": 135,
   "metadata": {},
   "outputs": [],
   "source": [
    "height = 100\n",
    "width = 100"
   ]
  },
  {
   "cell_type": "code",
   "execution_count": 136,
   "metadata": {},
   "outputs": [],
   "source": [
    "color = np.zeros((height,width, 3), dtype = np.int8)"
   ]
  },
  {
   "cell_type": "code",
   "execution_count": 137,
   "metadata": {},
   "outputs": [],
   "source": [
    "for col in range(100):\n",
    "    for row in range(100):\n",
    "        #purple color\n",
    "        color[row, col] = [128,0,128]\n",
    "\n",
    "for col in range(50):\n",
    "    for row in range(100):\n",
    "        #green color\n",
    "        color[row, col] = [0,255,0]\n",
    "        \n",
    "for col in range(100):\n",
    "    for row in range(50):\n",
    "        #red color\n",
    "        color[row, col] = [255,0,0]\n",
    "        \n",
    "for col in range(50):\n",
    "    for row in range(50):\n",
    "        #yellow color\n",
    "        color[row, col] = [255,255,0]\n",
    "        \n",
    "color_palette = Image.fromarray(color, 'RGB')"
   ]
  },
  {
   "cell_type": "code",
   "execution_count": 138,
   "metadata": {},
   "outputs": [
    {
     "data": {
      "image/png": "[encoded data removed]",
      "text/plain": [
       "<PIL.Image.Image image mode=RGB size=100x100 at 0x22466E8CB88>"
      ]
     },
     "execution_count": 138,
     "metadata": {},
     "output_type": "execute_result"
    }
   ],
   "source": [
    "color_palette"
   ]
  },
  {
   "cell_type": "code",
   "execution_count": null,
   "metadata": {},
   "outputs": [],
   "source": []
  },
  {
   "cell_type": "code",
   "execution_count": null,
   "metadata": {},
   "outputs": [],
   "source": []
  }
 ],
 "metadata": {
  "kernelspec": {
   "display_name": "Python 3",
   "language": "python",
   "name": "python3"
  },
  "language_info": {
   "codemirror_mode": {
    "name": "ipython",
    "version": 3
   },
   "file_extension": ".py",
   "mimetype": "text/x-python",
   "name": "python",
   "nbconvert_exporter": "python",
   "pygments_lexer": "ipython3",
   "version": "3.7.6"
  }
 },
 "nbformat": 4,
 "nbformat_minor": 4
}
